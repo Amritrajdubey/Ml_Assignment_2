{
 "cells": [
  {
   "cell_type": "markdown",
   "id": "09ac6322",
   "metadata": {},
   "source": [
    "1. What is the concept of human learning? Please give two examples."
   ]
  },
  {
   "cell_type": "markdown",
   "id": "c72e4d29",
   "metadata": {},
   "source": [
    "Human learn from other knowledge , skills , behaviour , attitude and make change according in itself.\n",
    "Ex - We learn from society , our teachers."
   ]
  },
  {
   "cell_type": "markdown",
   "id": "a99143cf",
   "metadata": {},
   "source": [
    "2. What different forms of human learning are there? Are there any machine learning equivalents?"
   ]
  },
  {
   "cell_type": "markdown",
   "id": "8dadf0b0",
   "metadata": {},
   "source": [
    "There are major three form of human learning :\n",
    "- Learning through associations\n",
    "- Learning from observations / history\n",
    "- Learning from concequences.\n",
    "\n",
    "Human brain learn from experience diretly or by other vs Machine learning involves learning from experience shared by machine in form of data."
   ]
  },
  {
   "cell_type": "markdown",
   "id": "b124bab1",
   "metadata": {},
   "source": [
    "3. What is machine learning, and how does it work? What are the key responsibilities of machine learning?"
   ]
  },
  {
   "cell_type": "markdown",
   "id": "fc6ac5fa",
   "metadata": {},
   "source": [
    "Machine learning involves use of algorithms to extract data, learn and predict future trends from it.It work by extracting insights of data using various algos and selecting usefull one out of it."
   ]
  },
  {
   "cell_type": "markdown",
   "id": "3dd8f6f2",
   "metadata": {},
   "source": [
    "4. Define the terms 'penalty' and 'reward' in the context of reinforcement learning."
   ]
  },
  {
   "cell_type": "markdown",
   "id": "99cfd7ec",
   "metadata": {},
   "source": [
    "Reward and penalty context is used to teach AI system . In case of right move it's reward else it's penalty."
   ]
  },
  {
   "cell_type": "markdown",
   "id": "7824cf8b",
   "metadata": {},
   "source": [
    "5. Explain the term 'learning as a search'?"
   ]
  },
  {
   "cell_type": "markdown",
   "id": "aec560d4",
   "metadata": {},
   "source": []
  },
  {
   "cell_type": "markdown",
   "id": "87a8e281",
   "metadata": {},
   "source": [
    "6. What are the various goals of machine learning? What is the relationship between these and human learning?"
   ]
  },
  {
   "cell_type": "markdown",
   "id": "cbc63b85",
   "metadata": {},
   "source": [
    "Goal of machine learning is to predict best output and find insights from available /provided data to ml algo.Even human also learn from available data and make prediction and behave accordingly."
   ]
  },
  {
   "cell_type": "markdown",
   "id": "b5b05e7e",
   "metadata": {},
   "source": [
    "7. Illustrate the various elements of machine learning using a real-life illustration."
   ]
  },
  {
   "cell_type": "markdown",
   "id": "1726384e",
   "metadata": {},
   "source": [
    "Lets consider we need to predict salary of person .\n",
    "\n",
    "Data collection : We will collect data from persons having details from working personnels (Data not to be collected from non working ersons) of there experience , Location , Education , Domain of working , salary.\n",
    "\n",
    "As the problem is of regression type. We will the perform EDA , missing data , outliers etc ( F.E ) then will train our model using regression , SVR , Decision tree and will find best fir model .\n",
    "\n",
    "Then we will do model training , afterward hyperparameter tuning then deployment of model."
   ]
  },
  {
   "cell_type": "markdown",
   "id": "8e59e569",
   "metadata": {},
   "source": [
    "8. Provide an example of the abstraction method."
   ]
  },
  {
   "cell_type": "markdown",
   "id": "58a062a3",
   "metadata": {},
   "source": [
    "Let our code have sesnsitive data like user id / Password and we are devloping some programme together then to restrict it's access from other developers we will use astraction method."
   ]
  },
  {
   "cell_type": "markdown",
   "id": "c5e8bda0",
   "metadata": {},
   "source": [
    "9. What is the concept of generalization? What function does it play in the machine learning process?"
   ]
  },
  {
   "cell_type": "markdown",
   "id": "394a08ad",
   "metadata": {},
   "source": [
    "generalization refers to the adaptability to the new data which is previously unseen , more the adaptability more precise the result will be."
   ]
  },
  {
   "cell_type": "markdown",
   "id": "26d43b19",
   "metadata": {},
   "source": [
    "10. What is classification, exactly? What are the main distinctions between classification and regression?"
   ]
  },
  {
   "cell_type": "markdown",
   "id": "77ca6903",
   "metadata": {},
   "source": [
    "When the output of the data is discrete or distributed in sub groups then it's classification problem vs when it has continuous values then it's regression."
   ]
  },
  {
   "cell_type": "markdown",
   "id": "aefb5a19",
   "metadata": {},
   "source": [
    "11. What is regression, and how does it work? Give an example of a real-world problem that was solved using regression."
   ]
  },
  {
   "cell_type": "markdown",
   "id": "6529da05",
   "metadata": {},
   "source": [
    "When we need to predict the continuos values then it's regression problem . Like to predict salary,price etc."
   ]
  },
  {
   "cell_type": "markdown",
   "id": "b2d47027",
   "metadata": {},
   "source": [
    "12. Describe the clustering mechanism in detail."
   ]
  },
  {
   "cell_type": "markdown",
   "id": "8e421ac5",
   "metadata": {},
   "source": [
    "Dividing data into subgroup with each subgroup having similarity in them."
   ]
  },
  {
   "cell_type": "markdown",
   "id": "cec63bd4",
   "metadata": {},
   "source": [
    "13. Make brief observations on two of the following topics:\n",
    "\n",
    "    i. Machine learning algorithms are used\n",
    "    ii. Studying under supervision\n",
    "    iii. Studying without supervision\n",
    "    iv. Reinforcement learning is a form of learning based on positive reinforcement."
   ]
  },
  {
   "cell_type": "markdown",
   "id": "4d8c18de",
   "metadata": {},
   "source": [
    "1) Mchine learning algorithm are : Supervised , Un supervised , Semi supervised and Reinforcement learning.\n",
    "2) In case of supervised learning output is known and based on the available input we predict our output. Ex- Based on experience, education , location we can preict salary of the person. "
   ]
  }
 ],
 "metadata": {
  "kernelspec": {
   "display_name": "Python 3 (ipykernel)",
   "language": "python",
   "name": "python3"
  },
  "language_info": {
   "codemirror_mode": {
    "name": "ipython",
    "version": 3
   },
   "file_extension": ".py",
   "mimetype": "text/x-python",
   "name": "python",
   "nbconvert_exporter": "python",
   "pygments_lexer": "ipython3",
   "version": "3.9.13"
  }
 },
 "nbformat": 4,
 "nbformat_minor": 5
}
